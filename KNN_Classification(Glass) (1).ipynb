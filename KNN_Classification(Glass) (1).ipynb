{
  "cells": [
    {
      "cell_type": "markdown",
      "metadata": {
        "id": "Lixqg2IDuhcB"
      },
      "source": [
        "# Step 1: Import Dependencies"
      ]
    },
    {
      "cell_type": "code",
      "execution_count": null,
      "metadata": {
        "id": "5le2P0iwuhcV"
      },
      "outputs": [],
      "source": [
        "import pandas as pd\n",
        "import matplotlib.pyplot as plt\n",
        "import numpy as np\n",
        "import seaborn as sns\n",
        "from sklearn.preprocessing import StandardScaler\n",
        "from scipy.stats import skew\n",
        "\n",
        "import warnings\n",
        "warnings.filterwarnings(\"ignore\")\n",
        "\n",
        "%matplotlib inline\n",
        "pd.set_option(\"display.max_columns\",None)"
      ]
    },
    {
      "cell_type": "markdown",
      "metadata": {
        "id": "Hyvcujk5uhcX"
      },
      "source": [
        "# Step 2: Import Data"
      ]
    },
    {
      "cell_type": "code",
      "execution_count": null,
      "metadata": {
        "id": "NlK6r4a2uhcX",
        "outputId": "f3a30a46-7bda-4075-d9a1-04b2c22cba68"
      },
      "outputs": [
        {
          "data": {
            "text/html": [
              "<div>\n",
              "<style scoped>\n",
              "    .dataframe tbody tr th:only-of-type {\n",
              "        vertical-align: middle;\n",
              "    }\n",
              "\n",
              "    .dataframe tbody tr th {\n",
              "        vertical-align: top;\n",
              "    }\n",
              "\n",
              "    .dataframe thead th {\n",
              "        text-align: right;\n",
              "    }\n",
              "</style>\n",
              "<table border=\"1\" class=\"dataframe\">\n",
              "  <thead>\n",
              "    <tr style=\"text-align: right;\">\n",
              "      <th></th>\n",
              "      <th>RI</th>\n",
              "      <th>Na</th>\n",
              "      <th>Mg</th>\n",
              "      <th>Al</th>\n",
              "      <th>Si</th>\n",
              "      <th>K</th>\n",
              "      <th>Ca</th>\n",
              "      <th>Ba</th>\n",
              "      <th>Fe</th>\n",
              "      <th>Type</th>\n",
              "    </tr>\n",
              "  </thead>\n",
              "  <tbody>\n",
              "    <tr>\n",
              "      <th>0</th>\n",
              "      <td>1.52101</td>\n",
              "      <td>13.64</td>\n",
              "      <td>4.49</td>\n",
              "      <td>1.10</td>\n",
              "      <td>71.78</td>\n",
              "      <td>0.06</td>\n",
              "      <td>8.75</td>\n",
              "      <td>0.0</td>\n",
              "      <td>0.0</td>\n",
              "      <td>1</td>\n",
              "    </tr>\n",
              "    <tr>\n",
              "      <th>1</th>\n",
              "      <td>1.51761</td>\n",
              "      <td>13.89</td>\n",
              "      <td>3.60</td>\n",
              "      <td>1.36</td>\n",
              "      <td>72.73</td>\n",
              "      <td>0.48</td>\n",
              "      <td>7.83</td>\n",
              "      <td>0.0</td>\n",
              "      <td>0.0</td>\n",
              "      <td>1</td>\n",
              "    </tr>\n",
              "    <tr>\n",
              "      <th>2</th>\n",
              "      <td>1.51618</td>\n",
              "      <td>13.53</td>\n",
              "      <td>3.55</td>\n",
              "      <td>1.54</td>\n",
              "      <td>72.99</td>\n",
              "      <td>0.39</td>\n",
              "      <td>7.78</td>\n",
              "      <td>0.0</td>\n",
              "      <td>0.0</td>\n",
              "      <td>1</td>\n",
              "    </tr>\n",
              "    <tr>\n",
              "      <th>3</th>\n",
              "      <td>1.51766</td>\n",
              "      <td>13.21</td>\n",
              "      <td>3.69</td>\n",
              "      <td>1.29</td>\n",
              "      <td>72.61</td>\n",
              "      <td>0.57</td>\n",
              "      <td>8.22</td>\n",
              "      <td>0.0</td>\n",
              "      <td>0.0</td>\n",
              "      <td>1</td>\n",
              "    </tr>\n",
              "    <tr>\n",
              "      <th>4</th>\n",
              "      <td>1.51742</td>\n",
              "      <td>13.27</td>\n",
              "      <td>3.62</td>\n",
              "      <td>1.24</td>\n",
              "      <td>73.08</td>\n",
              "      <td>0.55</td>\n",
              "      <td>8.07</td>\n",
              "      <td>0.0</td>\n",
              "      <td>0.0</td>\n",
              "      <td>1</td>\n",
              "    </tr>\n",
              "  </tbody>\n",
              "</table>\n",
              "</div>"
            ],
            "text/plain": [
              "        RI     Na    Mg    Al     Si     K    Ca   Ba   Fe  Type\n",
              "0  1.52101  13.64  4.49  1.10  71.78  0.06  8.75  0.0  0.0     1\n",
              "1  1.51761  13.89  3.60  1.36  72.73  0.48  7.83  0.0  0.0     1\n",
              "2  1.51618  13.53  3.55  1.54  72.99  0.39  7.78  0.0  0.0     1\n",
              "3  1.51766  13.21  3.69  1.29  72.61  0.57  8.22  0.0  0.0     1\n",
              "4  1.51742  13.27  3.62  1.24  73.08  0.55  8.07  0.0  0.0     1"
            ]
          },
          "execution_count": 2,
          "metadata": {},
          "output_type": "execute_result"
        }
      ],
      "source": [
        "df = pd.read_csv('glass.csv',\n",
        "                          header=0)\n",
        "\n",
        "df.head()"
      ]
    },
    {
      "cell_type": "code",
      "execution_count": null,
      "metadata": {
        "id": "oQUSIT-iuhcZ",
        "outputId": "116388ca-8451-43a1-ea11-2e3152c0d069"
      },
      "outputs": [
        {
          "data": {
            "text/plain": [
              "RI      float64\n",
              "Na      float64\n",
              "Mg      float64\n",
              "Al      float64\n",
              "Si      float64\n",
              "K       float64\n",
              "Ca      float64\n",
              "Ba      float64\n",
              "Fe      float64\n",
              "Type      int64\n",
              "dtype: object"
            ]
          },
          "execution_count": 3,
          "metadata": {},
          "output_type": "execute_result"
        }
      ],
      "source": [
        "df.dtypes"
      ]
    },
    {
      "cell_type": "markdown",
      "metadata": {
        "id": "t522YHk3uhcZ"
      },
      "source": [
        "# Step 3: EDA"
      ]
    },
    {
      "cell_type": "code",
      "execution_count": null,
      "metadata": {
        "id": "EEWI-ckUuhcZ",
        "outputId": "b156aa60-d1ff-416e-dca0-e807088049c5"
      },
      "outputs": [
        {
          "data": {
            "text/plain": [
              "array([1, 2, 3, 5, 6, 7], dtype=int64)"
            ]
          },
          "execution_count": 4,
          "metadata": {},
          "output_type": "execute_result"
        }
      ],
      "source": [
        "df.Type.unique()"
      ]
    },
    {
      "cell_type": "code",
      "execution_count": null,
      "metadata": {
        "id": "csIAa6Ukuhca",
        "outputId": "3df3d29b-e092-4473-98f8-1c412e670779"
      },
      "outputs": [
        {
          "data": {
            "image/png": "[encoded data removed]",
            "text/plain": [
              "<Figure size 720x432 with 1 Axes>"
            ]
          },
          "metadata": {
            "needs_background": "light"
          },
          "output_type": "display_data"
        }
      ],
      "source": [
        "# Select the relevant columns\n",
        "selected_columns = ['RI', 'Na', 'Mg', 'Al', 'Si', 'K', 'Ca', 'Ba', 'Fe']\n",
        "\n",
        "# Group the data by the 'Type' variable and calculate the mean for each independent variable\n",
        "grouped_data = df.groupby('Type')[selected_columns].mean()\n",
        "\n",
        "# Create the grouped bar chart\n",
        "grouped_data.plot(kind='bar', figsize=(10, 6))\n",
        "\n",
        "# Add labels and title\n",
        "plt.xlabel('Type')\n",
        "plt.ylabel('Mean Value')\n",
        "plt.title('Mean Values of Independent Variables by Glass Type')\n",
        "\n",
        "# Display the chart\n",
        "plt.show()"
      ]
    },
    {
      "cell_type": "markdown",
      "metadata": {
        "id": "5AbNeU8duhca"
      },
      "source": [
        "# Step 4: Data Preprocessing"
      ]
    },
    {
      "cell_type": "code",
      "execution_count": null,
      "metadata": {
        "id": "cIkIBA6Guhca",
        "outputId": "05081b75-9b87-4ffa-889d-1a943cc066f5"
      },
      "outputs": [
        {
          "data": {
            "text/plain": [
              "Index(['RI', 'Na', 'Mg', 'Al', 'Si', 'K', 'Ca', 'Ba', 'Fe', 'Type'], dtype='object')"
            ]
          },
          "execution_count": 7,
          "metadata": {},
          "output_type": "execute_result"
        }
      ],
      "source": [
        "df.columns"
      ]
    },
    {
      "cell_type": "code",
      "execution_count": null,
      "metadata": {
        "id": "rgAv1EcJuhcb",
        "outputId": "c5f514a4-bdae-457c-f5d3-9cf9e2aa4dac"
      },
      "outputs": [
        {
          "name": "stdout",
          "output_type": "stream",
          "text": [
            "RI      0\n",
            "Na      0\n",
            "Mg      0\n",
            "Al      0\n",
            "Si      0\n",
            "K       0\n",
            "Ca      0\n",
            "Ba      0\n",
            "Fe      0\n",
            "Type    0\n",
            "dtype: int64\n"
          ]
        }
      ],
      "source": [
        "print(df.isnull().sum())"
      ]
    },
    {
      "cell_type": "code",
      "execution_count": null,
      "metadata": {
        "id": "NjMdiysuuhcb",
        "outputId": "c6fd59c1-45bf-4599-bc99-80020ef597ca"
      },
      "outputs": [
        {
          "name": "stdout",
          "output_type": "stream",
          "text": [
            "Number of outliers in column RI : 17\n",
            "Number of outliers in column Na : 7\n",
            "Number of outliers in column Mg : 0\n",
            "Number of outliers in column Al : 18\n",
            "Number of outliers in column Si : 12\n",
            "Number of outliers in column K : 7\n",
            "Number of outliers in column Ca : 26\n",
            "Number of outliers in column Ba : 38\n",
            "Number of outliers in column Fe : 12\n",
            "Number of outliers in column Type : 29\n"
          ]
        }
      ],
      "source": [
        "# Select the columns for which you want to count outliers\n",
        "selected_columns = ['RI', 'Na', 'Mg', 'Al', 'Si', 'K', 'Ca', 'Ba', 'Fe','Type']\n",
        "\n",
        "# Iterate over each column\n",
        "for column in selected_columns:\n",
        "    # Calculate the IQR for the column\n",
        "    Q1 = df[column].quantile(0.25)\n",
        "    Q3 = df[column].quantile(0.75)\n",
        "    IQR = Q3 - Q1\n",
        "\n",
        "    # Define the lower and upper bounds for outlier detection\n",
        "    lower_bound = Q1 - 1.5 * IQR\n",
        "    upper_bound = Q3 + 1.5 * IQR\n",
        "\n",
        "    # Count the number of outliers in the column\n",
        "    num_outliers = sum((df[column] < lower_bound) | (df[column] > upper_bound))\n",
        "\n",
        "    print(\"Number of outliers in column\", column, \":\", num_outliers)"
      ]
    },
    {
      "cell_type": "code",
      "execution_count": null,
      "metadata": {
        "id": "JOOE_jvwuhcb"
      },
      "outputs": [],
      "source": [
        "new_df = df.columns\n",
        "\n",
        "# Calculate the IQR for each selected column\n",
        "Q1 = df[new_df].quantile(0.25)\n",
        "Q3 = df[new_df].quantile(0.75)\n",
        "IQR = Q3 - Q1\n",
        "\n",
        "# Define the lower and upper bounds for outlier removal\n",
        "lower_bound = Q1 - 1.5 * IQR\n",
        "upper_bound = Q3 + 1.5 * IQR\n",
        "\n",
        "# Remove outliers from the dataframe\n",
        "df_filtered = df[~((df[new_df] < lower_bound) | (df[new_df] > upper_bound)).any(axis=1)]\n"
      ]
    },
    {
      "cell_type": "code",
      "execution_count": null,
      "metadata": {
        "id": "iFv_LCGiuhcc",
        "outputId": "967af407-fd47-43b0-9702-7c91e3ea8010"
      },
      "outputs": [
        {
          "name": "stdout",
          "output_type": "stream",
          "text": [
            "Summary Statistics - Before Outlier Removal:\n",
            "               RI          Na          Mg          Al          Si           K  \\\n",
            "count  214.000000  214.000000  214.000000  214.000000  214.000000  214.000000   \n",
            "mean     1.518365   13.407850    2.684533    1.444907   72.650935    0.497056   \n",
            "std      0.003037    0.816604    1.442408    0.499270    0.774546    0.652192   \n",
            "min      1.511150   10.730000    0.000000    0.290000   69.810000    0.000000   \n",
            "25%      1.516523   12.907500    2.115000    1.190000   72.280000    0.122500   \n",
            "50%      1.517680   13.300000    3.480000    1.360000   72.790000    0.555000   \n",
            "75%      1.519157   13.825000    3.600000    1.630000   73.087500    0.610000   \n",
            "max      1.533930   17.380000    4.490000    3.500000   75.410000    6.210000   \n",
            "\n",
            "               Ca          Ba          Fe        Type  \n",
            "count  214.000000  214.000000  214.000000  214.000000  \n",
            "mean     8.956963    0.175047    0.057009    2.780374  \n",
            "std      1.423153    0.497219    0.097439    2.103739  \n",
            "min      5.430000    0.000000    0.000000    1.000000  \n",
            "25%      8.240000    0.000000    0.000000    1.000000  \n",
            "50%      8.600000    0.000000    0.000000    2.000000  \n",
            "75%      9.172500    0.000000    0.100000    3.000000  \n",
            "max     16.190000    3.150000    0.510000    7.000000  \n",
            "\n",
            "Summary Statistics - After Outlier Removal:\n",
            "               RI          Na          Mg          Al          Si           K  \\\n",
            "count  136.000000  136.000000  136.000000  136.000000  136.000000  136.000000   \n",
            "mean     1.517863   13.236176    3.415588    1.344044   72.693309    0.499044   \n",
            "std      0.001720    0.486696    0.552468    0.278500    0.489166    0.212125   \n",
            "min      1.514090   12.160000    0.000000    0.580000   71.350000    0.000000   \n",
            "25%      1.516622   12.877500    3.430000    1.190000   72.380000    0.487500   \n",
            "50%      1.517610   13.210000    3.540000    1.330000   72.760000    0.570000   \n",
            "75%      1.518445   13.480000    3.620000    1.540000   73.022500    0.610000   \n",
            "max      1.523000   14.990000    4.490000    2.120000   73.880000    1.100000   \n",
            "\n",
            "               Ca     Ba          Fe        Type  \n",
            "count  136.000000  136.0  136.000000  136.000000  \n",
            "mean     8.618088    0.0    0.043897    1.867647  \n",
            "std      0.630283    0.0    0.073577    1.120905  \n",
            "min      7.080000    0.0    0.000000    1.000000  \n",
            "25%      8.142500    0.0    0.000000    1.000000  \n",
            "50%      8.520000    0.0    0.000000    2.000000  \n",
            "75%      8.915000    0.0    0.090000    2.000000  \n",
            "max     10.560000    0.0    0.240000    6.000000  \n"
          ]
        }
      ],
      "source": [
        "# Calculate summary statistics before outlier removal\n",
        "summary_before = df.describe()\n",
        "\n",
        "# Calculate summary statistics after outlier removal\n",
        "summary_after = df_filtered.describe()\n",
        "\n",
        "# Print the summary statistics\n",
        "print(\"Summary Statistics - Before Outlier Removal:\")\n",
        "print(summary_before)\n",
        "\n",
        "print(\"\\nSummary Statistics - After Outlier Removal:\")\n",
        "print(summary_after)"
      ]
    },
    {
      "cell_type": "markdown",
      "metadata": {
        "id": "42s9sH3Xuhcc"
      },
      "source": [
        "By comparing the summary statistics before and after outlier removal, you can observe any changes in the mean, standard deviation, minimum, maximum, quartiles, and other statistical measures. If outliers were successfully removed, you would typically see differences in these summary statistics."
      ]
    },
    {
      "cell_type": "code",
      "execution_count": null,
      "metadata": {
        "id": "0oYrjxBDuhcc"
      },
      "outputs": [],
      "source": [
        "df_rev = df_filtered.copy()"
      ]
    },
    {
      "cell_type": "code",
      "execution_count": null,
      "metadata": {
        "id": "2yd_U6juuhcc",
        "outputId": "22dd7770-9311-4eb7-e412-c2d0f65126ae"
      },
      "outputs": [
        {
          "data": {
            "text/plain": [
              "(136, 10)"
            ]
          },
          "execution_count": 13,
          "metadata": {},
          "output_type": "execute_result"
        }
      ],
      "source": [
        "df_rev.shape"
      ]
    },
    {
      "cell_type": "code",
      "execution_count": null,
      "metadata": {
        "id": "UN0e33BWuhcd",
        "outputId": "e2d02351-6922-4e5d-b1b3-159d62f8c90b"
      },
      "outputs": [
        {
          "data": {
            "text/html": [
              "<div>\n",
              "<style scoped>\n",
              "    .dataframe tbody tr th:only-of-type {\n",
              "        vertical-align: middle;\n",
              "    }\n",
              "\n",
              "    .dataframe tbody tr th {\n",
              "        vertical-align: top;\n",
              "    }\n",
              "\n",
              "    .dataframe thead th {\n",
              "        text-align: right;\n",
              "    }\n",
              "</style>\n",
              "<table border=\"1\" class=\"dataframe\">\n",
              "  <thead>\n",
              "    <tr style=\"text-align: right;\">\n",
              "      <th></th>\n",
              "      <th>RI</th>\n",
              "      <th>Na</th>\n",
              "      <th>Mg</th>\n",
              "      <th>Al</th>\n",
              "      <th>Si</th>\n",
              "      <th>K</th>\n",
              "      <th>Ca</th>\n",
              "      <th>Ba</th>\n",
              "      <th>Fe</th>\n",
              "      <th>Type</th>\n",
              "    </tr>\n",
              "  </thead>\n",
              "  <tbody>\n",
              "    <tr>\n",
              "      <th>0</th>\n",
              "      <td>1.52101</td>\n",
              "      <td>13.64</td>\n",
              "      <td>4.49</td>\n",
              "      <td>1.10</td>\n",
              "      <td>71.78</td>\n",
              "      <td>0.06</td>\n",
              "      <td>8.75</td>\n",
              "      <td>0.0</td>\n",
              "      <td>0.0</td>\n",
              "      <td>1</td>\n",
              "    </tr>\n",
              "    <tr>\n",
              "      <th>1</th>\n",
              "      <td>1.51761</td>\n",
              "      <td>13.89</td>\n",
              "      <td>3.60</td>\n",
              "      <td>1.36</td>\n",
              "      <td>72.73</td>\n",
              "      <td>0.48</td>\n",
              "      <td>7.83</td>\n",
              "      <td>0.0</td>\n",
              "      <td>0.0</td>\n",
              "      <td>1</td>\n",
              "    </tr>\n",
              "    <tr>\n",
              "      <th>2</th>\n",
              "      <td>1.51618</td>\n",
              "      <td>13.53</td>\n",
              "      <td>3.55</td>\n",
              "      <td>1.54</td>\n",
              "      <td>72.99</td>\n",
              "      <td>0.39</td>\n",
              "      <td>7.78</td>\n",
              "      <td>0.0</td>\n",
              "      <td>0.0</td>\n",
              "      <td>1</td>\n",
              "    </tr>\n",
              "    <tr>\n",
              "      <th>3</th>\n",
              "      <td>1.51766</td>\n",
              "      <td>13.21</td>\n",
              "      <td>3.69</td>\n",
              "      <td>1.29</td>\n",
              "      <td>72.61</td>\n",
              "      <td>0.57</td>\n",
              "      <td>8.22</td>\n",
              "      <td>0.0</td>\n",
              "      <td>0.0</td>\n",
              "      <td>1</td>\n",
              "    </tr>\n",
              "    <tr>\n",
              "      <th>4</th>\n",
              "      <td>1.51742</td>\n",
              "      <td>13.27</td>\n",
              "      <td>3.62</td>\n",
              "      <td>1.24</td>\n",
              "      <td>73.08</td>\n",
              "      <td>0.55</td>\n",
              "      <td>8.07</td>\n",
              "      <td>0.0</td>\n",
              "      <td>0.0</td>\n",
              "      <td>1</td>\n",
              "    </tr>\n",
              "  </tbody>\n",
              "</table>\n",
              "</div>"
            ],
            "text/plain": [
              "        RI     Na    Mg    Al     Si     K    Ca   Ba   Fe  Type\n",
              "0  1.52101  13.64  4.49  1.10  71.78  0.06  8.75  0.0  0.0     1\n",
              "1  1.51761  13.89  3.60  1.36  72.73  0.48  7.83  0.0  0.0     1\n",
              "2  1.51618  13.53  3.55  1.54  72.99  0.39  7.78  0.0  0.0     1\n",
              "3  1.51766  13.21  3.69  1.29  72.61  0.57  8.22  0.0  0.0     1\n",
              "4  1.51742  13.27  3.62  1.24  73.08  0.55  8.07  0.0  0.0     1"
            ]
          },
          "execution_count": 14,
          "metadata": {},
          "output_type": "execute_result"
        }
      ],
      "source": [
        "df_rev.head()"
      ]
    },
    {
      "cell_type": "code",
      "execution_count": null,
      "metadata": {
        "id": "OuVFB93Kuhcd"
      },
      "outputs": [],
      "source": [
        "X = df_rev[['RI', 'Na', 'Mg', 'Al', 'Si', 'K', 'Ca', 'Ba', 'Fe']]\n",
        "y = df_rev['Type']"
      ]
    },
    {
      "cell_type": "code",
      "execution_count": null,
      "metadata": {
        "id": "NDvIp2Aouhcd"
      },
      "outputs": [],
      "source": [
        "from sklearn.model_selection import train_test_split\n",
        "\n",
        "X_train,X_test,y_train,y_test = train_test_split(X, y, test_size = 0.3,\n",
        "                                                random_state = 10)"
      ]
    },
    {
      "cell_type": "code",
      "execution_count": null,
      "metadata": {
        "id": "tUP8ZRTCuhcd"
      },
      "outputs": [],
      "source": [
        "from sklearn.preprocessing import StandardScaler, MinMaxScaler\n",
        "\n",
        "scaler = StandardScaler()\n",
        "\n",
        "scaler.fit(X_train)\n",
        "\n",
        "X_train_scale = scaler.transform(X_train)\n",
        "X_test_scale = scaler.transform(X_test)"
      ]
    },
    {
      "cell_type": "code",
      "execution_count": null,
      "metadata": {
        "id": "NEGZMlI2uhce",
        "outputId": "c6b3b49c-f089-4b13-fed3-4249d6af5e2e"
      },
      "outputs": [
        {
          "data": {
            "text/plain": [
              "array([[ 2.49379343e+00,  9.95648579e-01,  7.48869532e-01,\n",
              "        -2.26207432e+00, -1.87527451e+00, -1.59513965e+00,\n",
              "         1.75406867e+00,  0.00000000e+00, -6.54897353e-01],\n",
              "       [-9.04595044e-01, -1.03804340e+00, -8.02604686e-02,\n",
              "         5.01298034e-01,  1.12815982e+00,  7.54290844e-01,\n",
              "        -6.26906614e-01,  0.00000000e+00, -6.54897353e-01],\n",
              "       [ 1.73924590e+00,  1.09533936e+00, -1.78729282e+00,\n",
              "         2.85970318e-01, -1.42080747e+00, -9.15041351e-02,\n",
              "         1.92867352e+00,  0.00000000e+00,  1.54855937e+00],\n",
              "       [ 1.71658793e-01,  3.97503880e-01,  9.76473846e-01,\n",
              "        -6.11228499e-01, -4.32835653e-01,  3.31393354e-01,\n",
              "        -7.69765131e-01,  0.00000000e+00, -6.54897353e-01],\n",
              "       [ 3.02022194e+00,  1.58246001e-01,  3.26175806e-01,\n",
              "        -1.90319480e+00, -1.42080747e+00, -1.83008270e+00,\n",
              "         2.43661491e+00,  0.00000000e+00, -2.66052050e-01],\n",
              "       [ 7.22222969e-02,  5.37070977e-01, -3.14881156e-02,\n",
              "         1.00372937e+00, -1.51960465e+00,  2.84404744e-01,\n",
              "         2.77863992e-01,  0.00000000e+00,  5.11638557e-01],\n",
              "       [ 1.42412764e-01,  3.97503880e-01, -8.28103214e-01,\n",
              "        -5.75340547e-01,  2.58744619e-01,  1.90427524e-01,\n",
              "         6.27073700e-01,  0.00000000e+00, -6.54897353e-01],\n",
              "       [-3.30634045e-02, -4.11355652e-02, -9.25647920e-01,\n",
              "        -2.16461020e-01,  5.35376728e-01,  2.47308473e-03,\n",
              "         6.11200532e-01,  0.00000000e+00,  5.11638557e-01],\n",
              "       [-8.92896632e-01,  2.18060471e-01,  3.09918355e-01,\n",
              "         7.88401655e-01,  3.18022928e-01,  4.72359184e-01,\n",
              "        -1.18246751e+00,  0.00000000e+00, -6.54897353e-01],\n",
              "       [-7.52515697e-01,  3.57627567e-01,  1.72842374e-02,\n",
              "        -2.52348973e-01, -1.36444108e-01,  4.94616947e-02,\n",
              "         2.38932958e-02,  0.00000000e+00, -6.54897353e-01],\n",
              "       [-6.88174435e-01, -7.38971047e-01, -5.49399165e+00,\n",
              "         1.72148842e+00,  2.31372600e+00,  2.16394914e+00,\n",
              "         2.43661491e+00,  0.00000000e+00, -6.54897353e-01],\n",
              "       [-7.70063314e-01,  6.56699916e-01,  3.09918355e-01,\n",
              "         4.29522128e-01, -5.11873399e-01,  6.13325014e-01,\n",
              "        -1.07135533e+00,  0.00000000e+00, -6.54897353e-01],\n",
              "       [-4.24960182e-01, -6.79156577e-01,  3.91205610e-01,\n",
              "         7.88401655e-01,  4.95857856e-01,  4.72359184e-01,\n",
              "        -8.33257805e-01,  0.00000000e+00, -6.54897353e-01],\n",
              "       [-1.13271406e+00, -4.19960541e-01,  3.26175806e-01,\n",
              "         5.73073939e-01,  8.12008837e-01,  8.48268064e-01,\n",
              "        -1.07135533e+00,  0.00000000e+00, -6.54897353e-01],\n",
              "       [-1.26724579e+00,  1.18369688e-01,  1.14828943e-01,\n",
              "        -5.03564641e-01,  6.11502557e-02,  2.37416134e-01,\n",
              "        -1.03092052e-01,  0.00000000e+00, -6.54897353e-01],\n",
              "       [ 4.46571457e-01,  2.57936784e-01,  8.23140414e-02,\n",
              "         2.85970318e-01, -8.87302690e-01,  2.47308473e-03,\n",
              "        -5.54725469e-02,  0.00000000e+00, -6.54897353e-01],\n",
              "       [ 3.52984167e-01,  3.86170612e-02,  6.18809924e-01,\n",
              "        -1.08797162e-01, -6.10670581e-01,  3.31393354e-01,\n",
              "        -3.41189580e-01,  0.00000000e+00, -6.54897353e-01],\n",
              "       [-1.73444340e-01,  4.97194663e-01,  5.86295022e-01,\n",
              "        -6.47116452e-01,  5.55136165e-01,  3.78381964e-01,\n",
              "        -9.60243153e-01,  0.00000000e+00, -6.54897353e-01],\n",
              "       [-6.41380790e-01, -8.78538143e-01,  2.28631100e-01,\n",
              "         6.80737797e-01,  1.28623531e+00,  7.07302234e-01,\n",
              "        -1.16659434e+00,  0.00000000e+00, -6.54897353e-01],\n",
              "       [-3.13825275e-01, -1.75581703e+00, -1.07196498e+00,\n",
              "         1.00372937e+00,  3.18022928e-01,  8.95256674e-01,\n",
              "         9.44537071e-01,  0.00000000e+00, -6.54897353e-01],\n",
              "       [ 8.32619029e-01, -6.10737219e-02, -8.02604686e-02,\n",
              "        -2.52348973e-01, -6.89708326e-01,  4.25370574e-01,\n",
              "         8.01678554e-01,  0.00000000e+00,  7.70868760e-01],\n",
              "       [-1.90991957e-01, -8.38661830e-01,  3.09918355e-01,\n",
              "        -1.13330377e-03,  6.14414474e-01,  5.19347794e-01,\n",
              "        -7.13457154e-02,  0.00000000e+00, -6.54897353e-01],\n",
              "       [-1.12101565e+00, -7.38971047e-01,  2.28631100e-01,\n",
              "         2.76223905e+00, -9.69252352e-02,  8.48268064e-01,\n",
              "        -1.05548216e+00,  0.00000000e+00, -6.54897353e-01],\n",
              "       [-1.61745928e-01, -1.60764505e-01,  3.74948159e-01,\n",
              "        -1.07777188e+00,  1.04912207e+00,  2.84404744e-01,\n",
              "        -6.26906614e-01,  0.00000000e+00, -6.54897353e-01],\n",
              "       [-9.98182334e-01,  1.37447355e+00,  2.28631100e-01,\n",
              "        -3.60012831e-01,  3.37782365e-01, -6.55367454e-01,\n",
              "        -1.10310167e+00,  0.00000000e+00,  1.15971406e+00],\n",
              "       [-1.13271406e+00,  1.86789046e-02, -6.40030176e-02,\n",
              "         4.29522128e-01,  7.72489965e-01, -5.61390234e-01,\n",
              "        -6.58652951e-01,  0.00000000e+00, -6.54897353e-01],\n",
              "       [ 5.46746800e-02, -8.78538143e-01,  1.96116198e-01,\n",
              "        -8.26556215e-01,  6.34173910e-01,  6.13325014e-01,\n",
              "         2.14371318e-01,  0.00000000e+00, -6.54897353e-01],\n",
              "       [ 3.99777812e-01,  1.71342222e+00, -1.93360988e+00,\n",
              "         1.11139323e+00, -7.71657988e-02, -2.39394602e+00,\n",
              "         1.08739559e+00,  0.00000000e+00, -6.54897353e-01],\n",
              "       [ 7.09785711e-01,  7.36452543e-01,  3.91205610e-01,\n",
              "        -8.62444168e-01, -1.36444108e-01, -1.73610548e+00,\n",
              "         1.98498150e-01,  0.00000000e+00, -6.54897353e-01],\n",
              "       [-2.43634807e-01,  7.84933745e-02,  3.91205610e-01,\n",
              "        -3.95900783e-01,  7.32971092e-01,  1.90427524e-01,\n",
              "        -8.96750479e-01,  0.00000000e+00, -6.54897353e-01],\n",
              "       [-2.37785602e-01,  1.38307844e-01,  3.58690708e-01,\n",
              "        -7.54780310e-01,  7.52730528e-01,  3.31393354e-01,\n",
              "        -7.38018794e-01,  0.00000000e+00, -6.54897353e-01],\n",
              "       [ 3.12039728e-01, -1.80702662e-01, -8.76875567e-01,\n",
              "        -2.52348973e-01,  2.78504056e-01,  1.90427524e-01,\n",
              "         6.90566374e-01,  0.00000000e+00, -6.54897353e-01],\n",
              "       [-4.36658593e-01, -4.59836854e-01,  1.47343845e-01,\n",
              "         1.57793661e+00,  2.16313830e-02,  7.07302234e-01,\n",
              "        -7.22145625e-01,  0.00000000e+00, -6.54897353e-01],\n",
              "       [ 3.35436550e-01, -4.19960541e-01,  3.91205610e-01,\n",
              "        -1.04188393e+00, -7.29227199e-01,  6.13325014e-01,\n",
              "         7.85805385e-01,  0.00000000e+00,  1.28932916e+00],\n",
              "       [ 7.85825384e-01,  1.61373143e+00,  3.26175806e-01,\n",
              "         7.06426016e-02, -1.24297254e+00,  2.37416134e-01,\n",
              "        -5.31667603e-01,  0.00000000e+00, -6.54897353e-01],\n",
              "       [-8.57062552e-02, -1.55643547e+00, -1.08822243e+00,\n",
              "        -2.16461020e-01,  1.95805615e+00,  2.37416134e-01,\n",
              "         6.74693206e-01,  0.00000000e+00,  2.45586508e+00],\n",
              "       [ 7.44880945e-01,  1.33459724e+00,  5.70037571e-01,\n",
              "        -6.11228499e-01, -1.16393480e+00, -2.11201436e+00,\n",
              "         4.04849341e-01,  0.00000000e+00, -6.54897353e-01],\n",
              "       [-2.37785602e-01, -2.05488938e+00, -2.10320077e-01,\n",
              "        -6.83004405e-01,  1.66166460e+00,  5.19347794e-01,\n",
              "         4.20722509e-01,  0.00000000e+00,  2.45586508e+00],\n",
              "       [-1.10931724e+00, -2.80393445e-01,  2.28631100e-01,\n",
              "         7.16625750e-01,  3.18022928e-01,  8.01279454e-01,\n",
              "        -9.28496816e-01,  0.00000000e+00,  5.11638557e-01],\n",
              "       [-7.05722052e-01, -5.99403951e-01,  2.61146002e-01,\n",
              "         9.67841419e-01,  4.95857856e-01,  6.13325014e-01,\n",
              "        -9.60243153e-01,  0.00000000e+00,  2.06701977e+00],\n",
              "       [ 2.65246083e-01,  2.45113401e+00, -1.85232263e+00,\n",
              "         9.67841419e-01, -6.50189453e-01, -2.39394602e+00,\n",
              "         9.92156576e-01,  0.00000000e+00, -6.54897353e-01],\n",
              "       [ 6.10349215e-01,  3.50785631e+00, -4.22591047e+00,\n",
              "         1.39849685e+00, -4.13076217e-01, -2.39394602e+00,\n",
              "         2.08740521e+00,  0.00000000e+00, -6.54897353e-01],\n",
              "       [-1.25554738e+00,  1.86789046e-02,  1.79858747e-01,\n",
              "         4.29522128e-01,  1.06888151e+00, -6.08378844e-01,\n",
              "        -9.60243153e-01,  0.00000000e+00, -6.54897353e-01],\n",
              "       [-9.15554608e-02, -1.15767234e+00,  2.93660904e-01,\n",
              "        -1.80573067e-01,  7.32971092e-01,  4.72359184e-01,\n",
              "         8.73859699e-02,  0.00000000e+00,  1.15971406e+00],\n",
              "       [-8.22706165e-01, -2.13464201e+00,  2.28631100e-01,\n",
              "        -1.13330377e-03,  3.57541801e-01,  2.84404744e-01,\n",
              "        -1.66584727e-01,  0.00000000e+00, -6.54897353e-01],\n",
              "       [-1.14952283e-01, -4.99713167e-01,  2.61146002e-01,\n",
              "        -5.03564641e-01,  5.74895601e-01,  6.60313624e-01,\n",
              "        -1.66584727e-01,  0.00000000e+00, -6.54897353e-01],\n",
              "       [-3.72317331e-01,  2.97813097e-01,  1.96116198e-01,\n",
              "        -7.18892357e-01,  2.78504056e-01, -4.45155252e-02,\n",
              "        -3.25316412e-01,  0.00000000e+00, -6.54897353e-01],\n",
              "       [ 9.56191194e-02,  9.55772266e-01,  8.95186591e-01,\n",
              "         6.80737797e-01, -1.77647733e+00,  1.43438915e-01,\n",
              "        -6.74526120e-01,  0.00000000e+00,  1.28932916e+00],\n",
              "       [-2.84579247e-01, -4.19960541e-01,  2.61146002e-01,\n",
              "         1.21905709e+00,  4.13908193e-02,  1.43438915e-01,\n",
              "        -3.09443243e-01,  0.00000000e+00,  2.52408355e-01],\n",
              "       [ 2.03182932e-03, -3.00331601e-01,  1.79858747e-01,\n",
              "        -2.52348973e-01,  2.98263492e-01,  4.25370574e-01,\n",
              "        -2.30077401e-01,  0.00000000e+00, -6.54897353e-01],\n",
              "       [-5.24396678e-01, -7.38971047e-01,  3.26175806e-01,\n",
              "        -1.44685114e-01, -1.95722417e-01,  4.72359184e-01,\n",
              "         2.46117655e-01,  0.00000000e+00, -6.54897353e-01],\n",
              "       [ 2.15453950e+00, -2.20578975e-01,  3.26175806e-01,\n",
              "        -1.61609117e+00, -1.00585931e+00, -1.31320799e+00,\n",
              "         1.88105401e+00,  0.00000000e+00,  1.41894427e+00],\n",
              "       [-3.81737631e-03, -1.07791971e+00,  2.61146002e-01,\n",
              "        -3.70212564e-02,  4.76098419e-01,  2.84404744e-01,\n",
              "         1.82624981e-01,  0.00000000e+00, -6.54897353e-01],\n",
              "       [-9.16293455e-01, -4.59836854e-01,  3.26175806e-01,\n",
              "         6.80737797e-01,  2.38985183e-01,  4.72359184e-01,\n",
              "        -9.44369985e-01,  0.00000000e+00, -6.54897353e-01],\n",
              "       [-2.08539573e-01, -7.38971047e-01,  2.93660904e-01,\n",
              "        -2.88236925e-01,  9.89843765e-01,  1.43438915e-01,\n",
              "        -4.04682255e-01,  0.00000000e+00,  1.54855937e+00],\n",
              "       [ 6.33746038e-01,  4.57318350e-01,  7.32612081e-01,\n",
              "        -3.24124878e-01, -3.14279035e-01,  2.84404744e-01,\n",
              "        -6.74526120e-01,  0.00000000e+00,  1.15971406e+00],\n",
              "       [-4.48357004e-01,  4.97194663e-01,  1.63601296e-01,\n",
              "         1.29083299e+00, -3.73557344e-01,  5.19347794e-01,\n",
              "        -1.02373583e+00,  0.00000000e+00, -6.54897353e-01],\n",
              "       [-1.79293545e-01, -1.31717759e+00,  1.47343845e-01,\n",
              "         1.06530554e-01,  1.34551362e+00,  4.25370574e-01,\n",
              "        -1.34838390e-01,  0.00000000e+00,  1.22793254e-01],\n",
              "       [-5.53642706e-01, -1.11779602e+00, -8.11845763e-01,\n",
              "         1.29083299e+00,  9.89843765e-01,  1.03622250e+00,\n",
              "        -1.50711558e-01,  0.00000000e+00, -6.54897353e-01],\n",
              "       [ 2.65246083e-01,  1.86789046e-02,  8.46414238e-01,\n",
              "         2.14194412e-01, -7.48986635e-01,  1.90427524e-01,\n",
              "        -5.15794434e-01,  0.00000000e+00,  6.41253659e-01],\n",
              "       [ 1.38244436e+00,  1.49410249e+00, -3.29923577e+00,\n",
              "         1.00372937e+00, -1.87527451e+00, -5.61390234e-01,\n",
              "         3.05566849e+00,  0.00000000e+00,  1.67817447e+00],\n",
              "       [-3.66468126e-01, -7.19032890e-01,  1.63601296e-01,\n",
              "        -7.29092091e-02,  6.53933346e-01,  2.37416134e-01,\n",
              "        -3.25316412e-01,  0.00000000e+00, -6.54897353e-01],\n",
              "       [-1.20801489e-01, -1.23742496e+00,  3.42433257e-01,\n",
              "        -1.44685114e-01,  1.14791926e+00,  3.31393354e-01,\n",
              "        -2.14204232e-01,  0.00000000e+00, -6.54897353e-01],\n",
              "       [-1.11516645e+00,  3.86170612e-02,  1.14828943e-01,\n",
              "         2.85970318e-01,  9.10806019e-01,  4.72359184e-01,\n",
              "        -1.23008702e+00,  0.00000000e+00, -6.54897353e-01],\n",
              "       [-8.40253782e-01, -1.35705390e+00,  1.63601296e-01,\n",
              "         1.86504024e+00,  1.02936264e+00,  5.66336404e-01,\n",
              "        -8.80877311e-01,  0.00000000e+00,  5.11638557e-01],\n",
              "       [-6.64777613e-01,  1.86789046e-02,  3.09918355e-01,\n",
              "         1.06530554e-01, -1.78874898e-02,  2.37416134e-01,\n",
              "        -3.09443243e-01,  0.00000000e+00,  6.41253659e-01],\n",
              "       [ 2.27152361e+00,  5.57009133e-01,  7.81384434e-01,\n",
              "        -1.68786708e+00, -1.81599620e+00, -1.31320799e+00,\n",
              "         1.43660530e+00,  0.00000000e+00,  7.70868760e-01],\n",
              "       [-1.73444340e-01,  3.17751254e-01,  4.56235414e-01,\n",
              "        -5.75340547e-01,  1.59947437e-01,  2.84404744e-01,\n",
              "        -5.79287108e-01,  0.00000000e+00,  7.70868760e-01],\n",
              "       [ 3.35436550e-01, -5.99403951e-01,  5.86295022e-01,\n",
              "        -8.62444168e-01, -8.47783817e-01,  6.13325014e-01,\n",
              "         5.15961520e-01,  0.00000000e+00,  2.19663487e+00],\n",
              "       [ 2.00830936e+00,  2.17199982e+00,  8.46414238e-01,\n",
              "        -1.86730684e+00, -2.38901985e+00, -2.39394602e+00,\n",
              "         1.35723945e+00,  0.00000000e+00, -6.54897353e-01],\n",
              "       [-2.19142028e+00,  2.03243272e+00, -4.70439292e-01,\n",
              "         2.61868724e+00, -8.47783817e-01,  2.77480107e+00,\n",
              "        -2.46819416e+00,  0.00000000e+00, -6.54897353e-01],\n",
              "       [ 7.80715025e-02, -9.78228926e-01,  1.63601296e-01,\n",
              "        -1.13330377e-03,  4.95857856e-01,  6.13325014e-01,\n",
              "         7.15128014e-02,  0.00000000e+00, -6.54897353e-01],\n",
              "       [-1.09761883e+00, -4.19960541e-01,  2.93660904e-01,\n",
              "         6.80737797e-01,  7.92249401e-01,  9.89233893e-01,\n",
              "        -1.16659434e+00,  0.00000000e+00, -6.54897353e-01],\n",
              "       [ 1.30714353e-01, -4.59836854e-01,  6.83839728e-01,\n",
              "        -9.70108026e-01,  7.13211656e-01,  2.37416134e-01,\n",
              "        -4.04682255e-01,  0.00000000e+00,  9.00483861e-01],\n",
              "       [ 2.12603232e-01, -1.21748681e+00, -1.00693518e+00,\n",
              "        -1.86730684e+00,  2.17540995e+00, -7.49344674e-01,\n",
              "         1.24612727e+00,  0.00000000e+00,  1.93740467e+00],\n",
              "       [ 1.84453160e+00,  9.15895953e-01,  3.42433257e-01,\n",
              "        -8.26556215e-01, -1.48008578e+00, -1.97104853e+00,\n",
              "         1.21438094e+00,  0.00000000e+00, -6.54897353e-01],\n",
              "       [-1.13856327e+00, -6.99094734e-01,  8.23140414e-02,\n",
              "         1.78306460e-01,  1.12815982e+00,  8.48268064e-01,\n",
              "        -9.28496816e-01,  0.00000000e+00,  2.45586508e+00],\n",
              "       [-5.47793500e-01,  1.98122314e-01,  2.61146002e-01,\n",
              "         9.31953466e-01, -3.34038471e-01,  8.01279454e-01,\n",
              "        -8.33257805e-01,  0.00000000e+00, -6.54897353e-01],\n",
              "       [ 5.16761925e-01, -5.99403951e-01,  4.56235414e-01,\n",
              "         7.52513702e-01, -3.93316781e-01,  3.31393354e-01,\n",
              "        -1.34838390e-01,  0.00000000e+00,  9.00483861e-01],\n",
              "       [ 2.41190455e+00,  2.25175245e+00,  7.65126983e-01,\n",
              "        -1.65197913e+00, -2.66565196e+00, -1.68911687e+00,\n",
              "         8.17551722e-01,  0.00000000e+00, -6.54897353e-01],\n",
              "       [-1.01572995e+00,  1.98122314e-01,  2.44888551e-01,\n",
              "        -3.70212564e-02, -7.71657988e-02,  2.37416134e-01,\n",
              "        -4.84048097e-01,  0.00000000e+00, -6.54897353e-01],\n",
              "       [-2.72141988e-02, -4.11355652e-02,  1.72842374e-02,\n",
              "        -7.29092091e-02,  1.00669128e-01,  3.78381964e-01,\n",
              "        -7.13457154e-02,  0.00000000e+00, -6.54897353e-01],\n",
              "       [-6.94023641e-01, -1.80702662e-01,  1.14828943e-01,\n",
              "         1.47027276e+00, -4.52595090e-01,  4.25370574e-01,\n",
              "        -4.04682255e-01,  0.00000000e+00,  1.54855937e+00],\n",
              "       [ 2.56983310e+00, -4.11355652e-02,  6.35067375e-01,\n",
              "        -2.01085865e+00, -1.42080747e+00, -1.78309409e+00,\n",
              "         2.19851738e+00,  0.00000000e+00, -6.54897353e-01],\n",
              "       [ 1.59960381e-01,  1.98122314e-01,  7.65126983e-01,\n",
              "        -3.60012831e-01,  1.40188001e-01,  4.94616947e-02,\n",
              "        -8.17384636e-01,  0.00000000e+00, -6.54897353e-01],\n",
              "       [ 1.85623001e+00,  8.16205169e-01,  1.80560385e+00,\n",
              "        -8.98332121e-01, -1.83575563e+00, -2.11201436e+00,\n",
              "         1.82624981e-01,  0.00000000e+00, -6.54897353e-01],\n",
              "       [-9.27991866e-01,  2.57936784e-01,  3.26175806e-01,\n",
              "         5.01298034e-01,  2.16313830e-02, -2.79458575e-01,\n",
              "        -6.74526120e-01,  0.00000000e+00, -6.54897353e-01],\n",
              "       [-1.67595134e-01, -4.59836854e-01,  3.58690708e-01,\n",
              "         3.47546489e-02,  5.55136165e-01,  2.84404744e-01,\n",
              "        -3.72935918e-01,  0.00000000e+00,  7.70868760e-01],\n",
              "       [ 7.09785711e-01,  1.53397881e+00, -1.60846086e+00,\n",
              "         7.52513702e-01, -6.69948890e-01, -2.39394602e+00,\n",
              "         1.48422480e+00,  0.00000000e+00, -6.54897353e-01],\n",
              "       [-8.05158548e-01, -3.80084228e-01,  3.35416884e-02,\n",
              "        -3.24124878e-01,  5.94655037e-01,  4.94616947e-02,\n",
              "        -8.72188839e-02,  0.00000000e+00, -6.54897353e-01],\n",
              "       [-7.23269669e-01, -4.79775011e-01, -3.24122234e-01,\n",
              "        -4.31788736e-01,  5.15617292e-01,  3.31393354e-01,\n",
              "         2.77863992e-01,  0.00000000e+00,  2.45586508e+00],\n",
              "       [-8.11007754e-01,  4.17442037e-01,  3.74948159e-01,\n",
              "         6.80737797e-01, -6.30430017e-01,  7.07302234e-01,\n",
              "        -9.60243153e-01,  0.00000000e+00, -6.54897353e-01],\n",
              "       [ 2.03182932e-03, -1.09785787e+00,  4.72492865e-01,\n",
              "        -6.83004405e-01,  7.92249401e-01,  4.72359184e-01,\n",
              "         1.03259138e-01,  0.00000000e+00, -6.54897353e-01],\n",
              "       [ 1.97321413e+00,  1.59379328e+00,  6.18809924e-01,\n",
              "        -2.76450566e+00, -1.81599620e+00, -1.87707131e+00,\n",
              "         1.61121015e+00,  0.00000000e+00, -6.54897353e-01],\n",
              "       [-1.24384897e+00, -1.01810524e+00,  1.31086394e-01,\n",
              "         7.52513702e-01,  9.70084328e-01,  7.54290844e-01,\n",
              "        -8.65004142e-01,  0.00000000e+00,  2.45586508e+00]])"
            ]
          },
          "execution_count": 18,
          "metadata": {},
          "output_type": "execute_result"
        }
      ],
      "source": [
        "X_train_scale"
      ]
    },
    {
      "cell_type": "code",
      "execution_count": null,
      "metadata": {
        "id": "3BPfZrF2uhce",
        "outputId": "767152d4-a4d7-4cbe-af96-b9a9c32155b2"
      },
      "outputs": [
        {
          "data": {
            "text/plain": [
              "array([[-8.11007754e-01,  3.37689411e-01,  1.79858747e-01,\n",
              "         6.08961892e-01, -1.16684672e-01,  7.54290844e-01,\n",
              "        -8.80877311e-01,  0.00000000e+00,  6.41253659e-01],\n",
              "       [ 8.96960291e-01,  1.11527752e+00, -1.57594596e+00,\n",
              "        -5.75340547e-01,  1.00669128e-01, -2.39394602e+00,\n",
              "         1.80168817e+00,  0.00000000e+00, -6.54897353e-01],\n",
              "       [ 6.68841271e-01,  6.96576230e-01, -4.77455666e-02,\n",
              "        -4.31788736e-01, -1.24297254e+00,  3.78381964e-01,\n",
              "         4.36595678e-01,  0.00000000e+00, -6.54897353e-01],\n",
              "       [-6.82325230e-01, -5.79465794e-01,  3.74948159e-01,\n",
              "        -3.24124878e-01,  8.09096920e-02,  2.37416134e-01,\n",
              "        -5.54725469e-02,  0.00000000e+00, -6.54897353e-01],\n",
              "       [ 2.82793700e-01,  1.98122314e-01, -6.40030176e-02,\n",
              "         6.80737797e-01, -1.12441593e+00,  2.37416134e-01,\n",
              "         5.63581026e-01,  0.00000000e+00, -6.54897353e-01],\n",
              "       [-8.05158548e-01,  3.57627567e-01,  2.77403453e-01,\n",
              "        -3.60012831e-01,  1.99466310e-01,  8.01279454e-01,\n",
              "        -8.49130974e-01,  0.00000000e+00, -6.54897353e-01],\n",
              "       [ 3.64682579e-01,  3.57627567e-01,  8.30156787e-01,\n",
              "        -7.29092091e-02, -6.50189453e-01,  2.47308473e-03,\n",
              "        -5.63413940e-01,  0.00000000e+00, -6.54897353e-01],\n",
              "       [-1.22630135e+00,  3.24866028e+00,  4.72492865e-01,\n",
              "         1.39849685e+00, -1.65792071e+00, -1.64212826e+00,\n",
              "        -2.02374545e+00,  0.00000000e+00,  9.00483861e-01],\n",
              "       [-1.04497598e+00, -6.59218420e-01,  9.85714923e-02,\n",
              "         3.57746223e-01,  6.93452219e-01, -3.26447185e-01,\n",
              "        -5.79287108e-01,  0.00000000e+00, -6.54897353e-01],\n",
              "       [-5.65341117e-01, -1.25925200e-03,  2.61146002e-01,\n",
              "         4.65410081e-01,  2.58744619e-01,  2.37416134e-01,\n",
              "        -8.49130974e-01,  0.00000000e+00, -6.54897353e-01],\n",
              "       [-1.13271406e+00, -8.18723673e-01,  2.28631100e-01,\n",
              "         1.97270409e+00,  2.98263492e-01,  8.48268064e-01,\n",
              "        -1.05548216e+00,  0.00000000e+00, -6.54897353e-01],\n",
              "       [ 5.46746800e-02, -4.11355652e-02,  1.63601296e-01,\n",
              "         2.14194412e-01, -1.36444108e-01,  3.78381964e-01,\n",
              "        -3.25316412e-01,  0.00000000e+00, -6.54897353e-01],\n",
              "       [-1.32499900e-01,  1.31465908e+00,  3.58690708e-01,\n",
              "         3.47546489e-02,  4.13908193e-02, -1.38492745e-01,\n",
              "        -1.27770652e+00,  0.00000000e+00, -6.54897353e-01],\n",
              "       [-9.68936306e-01,  5.96885447e-01,  2.77403453e-01,\n",
              "         6.80737797e-01,  5.55136165e-01, -5.61390234e-01,\n",
              "        -1.35707237e+00,  0.00000000e+00, -6.54897353e-01],\n",
              "       [-6.41380790e-01, -7.19032890e-01,  2.93660904e-01,\n",
              "         1.03961732e+00,  8.51527710e-01,  6.60313624e-01,\n",
              "        -1.02373583e+00,  0.00000000e+00, -6.54897353e-01],\n",
              "       [-1.11516645e+00, -2.80393445e-01,  3.42433257e-01,\n",
              "         6.08961892e-01,  7.72489965e-01,  7.54290844e-01,\n",
              "        -1.27770652e+00,  0.00000000e+00, -6.54897353e-01],\n",
              "       [ 3.70531784e-01, -2.60455288e-01,  9.60216395e-01,\n",
              "        -5.75340547e-01, -5.31632835e-01,  4.25370574e-01,\n",
              "        -3.25316412e-01,  0.00000000e+00, -6.54897353e-01],\n",
              "       [ 6.80539683e-01,  5.17132820e-01,  1.63601296e-01,\n",
              "        -1.13330377e-03, -1.49984522e+00,  1.90427524e-01,\n",
              "         5.79454194e-01,  0.00000000e+00, -6.54897353e-01],\n",
              "       [ 2.27152361e+00,  4.97194663e-01,  5.86295022e-01,\n",
              "        -1.61609117e+00, -1.38128860e+00, -1.54815104e+00,\n",
              "         1.54771748e+00,  0.00000000e+00,  2.52408355e-01],\n",
              "       [-9.15554608e-02, -1.33711575e+00,  2.28631100e-01,\n",
              "         2.85970318e-01,  8.71287146e-01,  2.84404744e-01,\n",
              "        -1.50711558e-01,  0.00000000e+00, -6.54897353e-01],\n",
              "       [-8.57062552e-02,  8.36143326e-01,  4.56235414e-01,\n",
              "        -8.62444168e-01,  1.20428565e-01, -1.87707131e+00,\n",
              "        -5.54725469e-02,  0.00000000e+00, -6.54897353e-01],\n",
              "       [ 2.15453950e+00, -3.60146071e-01,  4.39977963e-01,\n",
              "        -1.72375503e+00, -7.68746071e-01, -1.50116243e+00,\n",
              "         1.92867352e+00,  0.00000000e+00,  1.54855937e+00],\n",
              "       [-1.20801489e-01, -8.58599987e-01,  4.56235414e-01,\n",
              "        -2.88236925e-01,  5.94655037e-01,  4.25370574e-01,\n",
              "        -1.18965221e-01,  0.00000000e+00, -6.54897353e-01],\n",
              "       [-1.67595134e-01, -1.03804340e+00,  6.60565904e-02,\n",
              "        -5.39452594e-01,  9.70084328e-01,  3.78381964e-01,\n",
              "         8.02012726e-03,  0.00000000e+00, -6.54897353e-01],\n",
              "       [ 2.15453950e+00, -3.60146071e-01,  4.39977963e-01,\n",
              "        -1.72375503e+00, -9.66340435e-01, -1.50116243e+00,\n",
              "         1.92867352e+00,  0.00000000e+00,  1.54855937e+00],\n",
              "       [ 2.36000055e-01, -7.19032890e-01,  1.63601296e-01,\n",
              "        -2.16461020e-01,  4.76098419e-01,  4.25370574e-01,\n",
              "        -3.25316412e-01,  0.00000000e+00, -6.54897353e-01],\n",
              "       [ 7.68277767e-01, -9.98167083e-01, -2.48636322e+00,\n",
              "         1.82915228e+00, -3.76469261e-02,  4.25370574e-01,\n",
              "         2.30962956e+00,  0.00000000e+00, -6.54897353e-01],\n",
              "       [-9.68936306e-01, -4.39898698e-01,  1.96116198e-01,\n",
              "         4.65410081e-01,  3.57541801e-01,  4.25370574e-01,\n",
              "        -8.17384636e-01,  0.00000000e+00, -6.54897353e-01],\n",
              "       [-1.01572995e+00,  3.77565724e-01,  3.35416884e-02,\n",
              "        -4.67676689e-01, -3.76469261e-02,  3.78381964e-01,\n",
              "        -4.99921266e-01,  0.00000000e+00, -6.54897353e-01],\n",
              "       [-4.42507799e-01,  9.75710422e-01,  4.88750316e-01,\n",
              "         1.64971252e+00, -1.28249142e+00,  6.13325014e-01,\n",
              "        -1.19834068e+00,  0.00000000e+00, -6.54897353e-01],\n",
              "       [ 2.59322992e+00,  1.87292747e+00,  7.00097179e-01,\n",
              "        -2.04674661e+00, -2.68541140e+00, -2.39394602e+00,\n",
              "         1.67470282e+00,  0.00000000e+00, -6.54897353e-01],\n",
              "       [-1.96841162e-01, -8.18723673e-01,  2.77403453e-01,\n",
              "         5.01298034e-01,  8.09096920e-02,  1.43438915e-01,\n",
              "        -1.82457895e-01,  0.00000000e+00,  1.80778957e+00],\n",
              "       [-1.32499900e-01, -8.38661830e-01,  2.61146002e-01,\n",
              "        -4.31788736e-01,  1.04912207e+00,  3.31393354e-01,\n",
              "        -3.88809086e-01,  0.00000000e+00, -6.54897353e-01],\n",
              "       [ 4.99214308e-01, -8.10118785e-02, -1.52306646e-02,\n",
              "        -6.11228499e-01,  2.16313830e-02,  2.84404744e-01,\n",
              "         3.09610329e-01,  0.00000000e+00,  1.41894427e+00],\n",
              "       [-2.78730041e-01, -8.98476300e-01,  3.91205610e-01,\n",
              "        -2.16461020e-01,  1.59947437e-01,  3.78381964e-01,\n",
              "         1.03259138e-01,  0.00000000e+00, -6.54897353e-01],\n",
              "       [-2.72141988e-02,  8.16205169e-01,  4.39977963e-01,\n",
              "        -2.51328999e+00,  5.74895601e-01, -2.11201436e+00,\n",
              "         4.68342015e-01,  0.00000000e+00, -6.54897353e-01],\n",
              "       [-2.14388779e-01, -7.78847360e-01,  1.96116198e-01,\n",
              "        -7.54780310e-01,  1.10840038e+00,  2.37416134e-01,\n",
              "        -1.34838390e-01,  0.00000000e+00, -6.54897353e-01],\n",
              "       [-1.03253872e-01, -4.11355652e-02,  5.05007767e-01,\n",
              "        -2.16461020e-01, -1.95722417e-01,  2.84404744e-01,\n",
              "        -6.58652951e-01,  0.00000000e+00, -6.54897353e-01],\n",
              "       [ 2.30076964e+00, -6.10737219e-02,  4.88750316e-01,\n",
              "        -7.18892357e-01,  8.09096920e-02,  1.43438915e-01,\n",
              "        -1.82457895e-01,  0.00000000e+00, -6.54897353e-01],\n",
              "       [-1.14441247e+00, -2.20578975e-01,  4.97991394e-02,\n",
              "         8.24289608e-01,  1.08864095e+00, -2.06502575e+00,\n",
              "        -3.88809086e-01,  0.00000000e+00,  1.80778957e+00],\n",
              "       [-4.47618157e-02,  5.96885447e-01,  4.97991394e-02,\n",
              "         6.08961892e-01, -1.32201029e+00,  3.31393354e-01,\n",
              "         2.46117655e-01,  0.00000000e+00, -6.54897353e-01]])"
            ]
          },
          "execution_count": 19,
          "metadata": {},
          "output_type": "execute_result"
        }
      ],
      "source": [
        "X_test_scale"
      ]
    },
    {
      "cell_type": "markdown",
      "metadata": {
        "id": "p_k53AfGuhce"
      },
      "source": [
        "# KNN Classification"
      ]
    },
    {
      "cell_type": "code",
      "execution_count": null,
      "metadata": {
        "id": "XV9FxAMJuhce"
      },
      "outputs": [],
      "source": [
        "#Predicting using the KNeighborsClassifier\n",
        "from sklearn.neighbors import KNeighborsClassifier"
      ]
    },
    {
      "cell_type": "code",
      "execution_count": null,
      "metadata": {
        "id": "IaPc0qpNuhce",
        "outputId": "6c644383-c620-4265-ff14-e139cf186afa"
      },
      "outputs": [
        {
          "data": {
            "text/plain": [
              "KNeighborsClassifier(algorithm='auto', leaf_size=30, metric='minkowski',\n",
              "                     metric_params=None, n_jobs=None, n_neighbors=15, p=2,\n",
              "                     weights='uniform')"
            ]
          },
          "execution_count": 21,
          "metadata": {},
          "output_type": "execute_result"
        }
      ],
      "source": [
        "model_KNN = KNeighborsClassifier(n_neighbors=15)\n",
        "\n",
        "#fit the model on the data and predict the values\n",
        "model_KNN.fit(X_train_scale,y_train)"
      ]
    },
    {
      "cell_type": "code",
      "execution_count": null,
      "metadata": {
        "id": "9Y1q9RSHuhce",
        "outputId": "539b9966-b0c8-4e3f-8dae-cad12d53fd7c"
      },
      "outputs": [
        {
          "name": "stdout",
          "output_type": "stream",
          "text": [
            "[[17  2  0  0  0]\n",
            " [ 5 10  0  0  0]\n",
            " [ 4  1  0  0  0]\n",
            " [ 1  0  0  0  0]\n",
            " [ 1  0  0  0  0]]\n",
            "Classification report: \n",
            "              precision    recall  f1-score   support\n",
            "\n",
            "           1       0.61      0.89      0.72        19\n",
            "           2       0.77      0.67      0.71        15\n",
            "           3       0.00      0.00      0.00         5\n",
            "           5       0.00      0.00      0.00         1\n",
            "           6       0.00      0.00      0.00         1\n",
            "\n",
            "    accuracy                           0.66        41\n",
            "   macro avg       0.28      0.31      0.29        41\n",
            "weighted avg       0.56      0.66      0.60        41\n",
            "\n",
            "Accuracy of the model:  0.6585365853658537\n"
          ]
        }
      ],
      "source": [
        "from sklearn.metrics import confusion_matrix, accuracy_score, classification_report\n",
        "\n",
        "y_pred = model_KNN.predict(X_test_scale)\n",
        "\n",
        "conf_matrix = confusion_matrix(y_test,y_pred)\n",
        "print(conf_matrix)\n",
        "\n",
        "print(\"Classification report: \")\n",
        "\n",
        "print(classification_report(y_test,y_pred))\n",
        "\n",
        "acc_score = accuracy_score(y_test,y_pred)\n",
        "print(\"Accuracy of the model: \",acc_score)"
      ]
    },
    {
      "cell_type": "markdown",
      "metadata": {
        "id": "AoqTDcA2uhcf"
      },
      "source": [
        "# Applying different values of k"
      ]
    },
    {
      "cell_type": "code",
      "execution_count": null,
      "metadata": {
        "id": "-628YAmRuhcf",
        "outputId": "48c7b598-8b5e-46d8-a527-6472a2874dc3"
      },
      "outputs": [
        {
          "name": "stdout",
          "output_type": "stream",
          "text": [
            "Accuracy is: 0.63 for K-Values: 1\n",
            "Accuracy is: 0.68 for K-Values: 2\n",
            "Accuracy is: 0.68 for K-Values: 3\n",
            "Accuracy is: 0.71 for K-Values: 4\n",
            "Accuracy is: 0.71 for K-Values: 5\n",
            "Accuracy is: 0.71 for K-Values: 6\n",
            "Accuracy is: 0.68 for K-Values: 7\n",
            "Accuracy is: 0.68 for K-Values: 8\n",
            "Accuracy is: 0.66 for K-Values: 9\n",
            "Accuracy is: 0.68 for K-Values: 10\n",
            "Accuracy is: 0.68 for K-Values: 11\n",
            "Accuracy is: 0.66 for K-Values: 12\n",
            "Accuracy is: 0.66 for K-Values: 13\n",
            "Accuracy is: 0.61 for K-Values: 14\n",
            "Accuracy is: 0.66 for K-Values: 15\n",
            "Accuracy is: 0.66 for K-Values: 16\n",
            "Accuracy is: 0.63 for K-Values: 17\n",
            "Accuracy is: 0.63 for K-Values: 18\n",
            "Accuracy is: 0.63 for K-Values: 19\n",
            "Accuracy is: 0.66 for K-Values: 20\n",
            "Accuracy is: 0.68 for K-Values: 21\n",
            "Accuracy is: 0.71 for K-Values: 22\n",
            "Accuracy is: 0.59 for K-Values: 23\n",
            "Accuracy is: 0.66 for K-Values: 24\n",
            "Accuracy is: 0.66 for K-Values: 25\n",
            "Accuracy is: 0.63 for K-Values: 26\n",
            "Accuracy is: 0.66 for K-Values: 27\n",
            "Accuracy is: 0.63 for K-Values: 28\n",
            "Accuracy is: 0.66 for K-Values: 29\n",
            "Accuracy is: 0.66 for K-Values: 30\n"
          ]
        }
      ],
      "source": [
        "acc_dict = dict() # Try and approch method\n",
        "\n",
        "for K in range(1, 31):\n",
        "\n",
        "    #Create object with k values\n",
        "    model_KNN = KNeighborsClassifier(K, metric = 'euclidean')\n",
        "\n",
        "    #Model Fit\n",
        "    model_KNN.fit(X_train_scale, y_train)\n",
        "\n",
        "    #Model Prediction\n",
        "    y_pred = model_KNN.predict(X_test_scale)\n",
        "\n",
        "    acc_score = round(accuracy_score(y_test, y_pred),2)\n",
        "\n",
        "    #Print accuracy score\n",
        "    print(\"Accuracy is: {} for K-Values: {}\".format(acc_score,K))\n",
        "    acc_dict[K] = acc_score"
      ]
    },
    {
      "cell_type": "code",
      "execution_count": null,
      "metadata": {
        "id": "d_TFOoM3uhcf",
        "outputId": "cb4458e8-74c1-4880-8ec9-95badd5ea17a"
      },
      "outputs": [
        {
          "name": "stdout",
          "output_type": "stream",
          "text": [
            "4 : 0.71\n",
            "5 : 0.71\n",
            "6 : 0.71\n",
            "22 : 0.71\n"
          ]
        }
      ],
      "source": [
        "# This will return maximum accuracy with k value\n",
        "for k in acc_dict:\n",
        "    if acc_dict[k] == max(acc_dict.values()):\n",
        "        print(k,\":\", acc_dict[k])"
      ]
    },
    {
      "cell_type": "code",
      "execution_count": null,
      "metadata": {
        "id": "lTZNMJuzuhcf"
      },
      "outputs": [],
      "source": [
        "model = KNeighborsClassifier(n_neighbors = 5, metric = \"euclidean\", n_jobs=-1)\n",
        "\n",
        "#Model fit\n",
        "model.fit(X_train_scale, y_train)\n",
        "\n",
        "#Model prediction\n",
        "y_pred = model.predict(X_test_scale)\n"
      ]
    },
    {
      "cell_type": "code",
      "execution_count": null,
      "metadata": {
        "id": "hYFHOTT5uhcf",
        "outputId": "02274a27-588b-4638-ea78-48a1d49f2603"
      },
      "outputs": [
        {
          "name": "stdout",
          "output_type": "stream",
          "text": [
            "[[14  5  0  0  0]\n",
            " [ 2 13  0  0  0]\n",
            " [ 2  2  1  0  0]\n",
            " [ 1  0  0  0  0]\n",
            " [ 0  0  0  0  1]]\n",
            "Classification report: \n",
            "              precision    recall  f1-score   support\n",
            "\n",
            "           1       0.74      0.74      0.74        19\n",
            "           2       0.65      0.87      0.74        15\n",
            "           3       1.00      0.20      0.33         5\n",
            "           5       0.00      0.00      0.00         1\n",
            "           6       1.00      1.00      1.00         1\n",
            "\n",
            "    accuracy                           0.71        41\n",
            "   macro avg       0.68      0.56      0.56        41\n",
            "weighted avg       0.73      0.71      0.68        41\n",
            "\n",
            "Accuracy of the model:  0.7073170731707317\n"
          ]
        }
      ],
      "source": [
        "# Test Eval\n",
        "\n",
        "conf_matrix = confusion_matrix(y_test,y_pred)\n",
        "print(conf_matrix)\n",
        "\n",
        "print(\"Classification report: \")\n",
        "\n",
        "print(classification_report(y_test,y_pred))\n",
        "\n",
        "acc_score = accuracy_score(y_test,y_pred)\n",
        "print(\"Accuracy of the model: \",acc_score)"
      ]
    },
    {
      "cell_type": "code",
      "execution_count": null,
      "metadata": {
        "id": "fMtyXMh7uhcg"
      },
      "outputs": [],
      "source": []
    }
  ],
  "metadata": {
    "kernelspec": {
      "display_name": "Python 3",
      "language": "python",
      "name": "python3"
    },
    "language_info": {
      "codemirror_mode": {
        "name": "ipython",
        "version": 3
      },
      "file_extension": ".py",
      "mimetype": "text/x-python",
      "name": "python",
      "nbconvert_exporter": "python",
      "pygments_lexer": "ipython3",
      "version": "3.7.6"
    },
    "colab": {
      "provenance": []
    }
  },
  "nbformat": 4,
  "nbformat_minor": 0
}